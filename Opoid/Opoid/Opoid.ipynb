{
 "cells": [
  {
   "cell_type": "code",
   "execution_count": null,
   "metadata": {},
   "outputs": [],
   "source": [
    "# Dependencies\n",
    "import pandas as pd\n",
    "import matplotlib.pyplot as plt\n",
    "import scipy.stats as st\n",
    "from pathlib import Path"
   ]
  },
  {
   "cell_type": "code",
   "execution_count": null,
   "metadata": {},
   "outputs": [],
   "source": [
    "# Specify the path to the folder you want to check\n",
    "import os\n",
    "\n",
    "folder_path = 'C:/Users/m8rqu/Documents/Data BootCamp/Opoid/Resources'  # Replace with the actual path to your folder\n",
    "\n",
    "# Use the os.listdir() function to get a list of files and subdirectories\n",
    "contents = os.listdir(folder_path)\n",
    "\n",
    "# Loop through the list and print each item (file or subdirectory)\n",
    "for item in contents:\n",
    "    print(item)"
   ]
  },
  {
   "cell_type": "code",
   "execution_count": null,
   "metadata": {},
   "outputs": [],
   "source": [
    "import gzip\n",
    "with gzip.open('C:/Users/m8rqu/Documents/Data BootCamp/Opoid/Resources/va_opioid.gz', 'rb') as gz_file:\n",
    "    #Read the CSV data into a dataframe\n",
    "    df = pd.read_csv(gz_file)\n",
    "\n"
   ]
  },
  {
   "cell_type": "code",
   "execution_count": null,
   "metadata": {},
   "outputs": [],
   "source": [
    "df.columns"
   ]
  },
  {
   "cell_type": "code",
   "execution_count": null,
   "metadata": {},
   "outputs": [],
   "source": [
    "op_va_df=df[['TRANSACTION_DATE','BUYER_STATE','BUYER_COUNTY','Dosage_Strength','DOSAGE_UNIT','Combined_Labeler_Name']]\n",
    "op_va_df=op_va_df.sort_values(by='TRANSACTION_DATE')\n",
    "op_va_df.head()"
   ]
  },
  {
   "cell_type": "code",
   "execution_count": null,
   "metadata": {},
   "outputs": [],
   "source": [
    "opioid_info = op_va_df\n",
    "print(op_va_df.columns)\n",
    "print(op_va_df.index)"
   ]
  },
  {
   "cell_type": "code",
   "execution_count": null,
   "metadata": {},
   "outputs": [],
   "source": [
    "# To prepare for time series we index the date\n",
    "op_va_df['TRANSACTION_DATE'] = pd.to_datetime(op_va_df['TRANSACTION_DATE'])\n",
    "op_va_df.set_index('TRANSACTION_DATE', inplace=True)"
   ]
  },
  {
   "cell_type": "code",
   "execution_count": null,
   "metadata": {},
   "outputs": [],
   "source": [
    "#checking my work\n",
    "op_va_df.head()"
   ]
  },
  {
   "cell_type": "code",
   "execution_count": null,
   "metadata": {},
   "outputs": [],
   "source": [
    "# Resample to monthly data and calculate the mean\n",
    "monthly_mean = op_va_df.resample('M').mean()"
   ]
  },
  {
   "cell_type": "code",
   "execution_count": null,
   "metadata": {},
   "outputs": [],
   "source": [
    "monthly_mean['DOSAGE_UNIT'].plot(figsize=(15, 6))\n",
    "plt.show()"
   ]
  },
  {
   "cell_type": "code",
   "execution_count": null,
   "metadata": {},
   "outputs": [],
   "source": [
    "monthly_mean['Dosage_Strength'].plot(figsize=(15, 6))\n",
    "plt.show()"
   ]
  },
  {
   "cell_type": "code",
   "execution_count": null,
   "metadata": {},
   "outputs": [],
   "source": [
    "# Group the data by month and calculate the total dosage units for each month\n",
    "monthly_consumption = op_va_df.groupby(op_va_df.index.strftime('%B'))['DOSAGE_UNIT'].sum()\n",
    "\n",
    "# Define a list of month names in the desired order\n",
    "month_order = [\n",
    "    'January', 'February', 'March', 'April', 'May', 'June',\n",
    "    'July', 'August', 'September', 'October', 'November', 'December'\n",
    "]\n",
    "\n",
    "# Create a bar chart with custom month labels\n",
    "plt.figure(figsize=(12, 6))\n",
    "monthly_consumption[month_order].plot(kind='bar')\n",
    "plt.xlabel('Month')\n",
    "plt.ylabel('Total DOSAGE_UNIT')\n",
    "plt.title('Monthly Comparison of DOSAGE_UNIT')\n",
    "plt.xticks(rotation=45)\n",
    "plt.show()"
   ]
  },
  {
   "cell_type": "code",
   "execution_count": null,
   "metadata": {},
   "outputs": [],
   "source": [
    "daily_consumption = op_va_df.groupby(op_va_df.index.strftime('%A'))['DOSAGE_UNIT'].sum()\n",
    "\n",
    "#Creating a correctly order list\n",
    "\n",
    "day_order = ['Sunday', 'Monday', 'Tuesday', 'Wednesday', 'Thursday', 'Friday','Saturday']\n",
    "\n",
    "# Create a bar chart to compare monthly consumption\n",
    "plt.figure(figsize=(12, 6))\n",
    "daily_consumption[day_order].plot(kind='bar')\n",
    "plt.xlabel('Days')\n",
    "plt.ylabel('Total Dosage Unit')\n",
    "plt.title('Daily Comparison of Dosage Unit')\n",
    "plt.xticks(rotation=45)\n",
    "plt.show()"
   ]
  },
  {
   "cell_type": "code",
   "execution_count": null,
   "metadata": {},
   "outputs": [],
   "source": [
    "monthly_mean['Dosage_Strength']\n"
   ]
  },
  {
   "cell_type": "code",
   "execution_count": null,
   "metadata": {},
   "outputs": [],
   "source": [
    "opioid_info=df[['TRANSACTION_DATE','BUYER_STATE','BUYER_COUNTY','Dosage_Strength','DOSAGE_UNIT','Combined_Labeler_Name']]\n",
    "opioid_info.head()"
   ]
  },
  {
   "cell_type": "code",
   "execution_count": null,
   "metadata": {},
   "outputs": [],
   "source": [
    "opioid_info['TRANSACTION_DATE'] = pd.to_datetime(opioid_info['TRANSACTION_DATE'])\n",
    "\n",
    "#Extract the months\n",
    "opioid_info['Year']=opioid_info['TRANSACTION_DATE'].dt.to_period('Y')\n",
    "yearly_dosage = opioid_info.groupby(['Year','BUYER_COUNTY'])['DOSAGE_UNIT'].sum().reset_index()\n",
    "yearly_dosage"
   ]
  },
  {
   "cell_type": "code",
   "execution_count": null,
   "metadata": {},
   "outputs": [],
   "source": [
    "yr_2015 = yearly_dosage[yearly_dosage['Year'] == '2015']\n",
    "yr_2015 = yr_2015.rename(columns ={'BUYER_COUNTY':'Counties'}) \n",
    "yr_2015.drop(['Year'], axis = 1, inplace = True)\n",
    "\n"
   ]
  },
  {
   "cell_type": "code",
   "execution_count": null,
   "metadata": {},
   "outputs": [],
   "source": [
    "yr_2015.head()"
   ]
  },
  {
   "cell_type": "code",
   "execution_count": null,
   "metadata": {},
   "outputs": [],
   "source": [
    "company_dosage = opioid_info.groupby(['Year','Combined_Labeler_Name'])['DOSAGE_UNIT'].sum().reset_index()\n",
    "company_dosage.head()"
   ]
  },
  {
   "cell_type": "code",
   "execution_count": null,
   "metadata": {},
   "outputs": [],
   "source": [
    "import json\n",
    "file_path_1 = 'C:/Users/m8rqu/Documents/Data BootCamp/Opoid/Resources/va_drug_2015.csv'\n",
    "file_path_2 = 'C:/Users/m8rqu/Documents/Data BootCamp/Opoid/Resources/va_opioid_county.csv'\n",
    "file_path_3 = 'C:/Users/m8rqu/Documents/Data BootCamp/Opoid/Resources/va_opioid_company.csv'\n",
    "\n",
    "\n",
    "# Export the DataFrame to a csv file\n",
    "yr_2015.to_csv(file_path_1,index = False)\n",
    "yearly_dosage.to_csv(file_path_2,index = False)\n",
    "company_dosage.to_csv(file_path_3,index = False)"
   ]
  }
 ],
 "metadata": {
  "kernelspec": {
   "display_name": "base",
   "language": "python",
   "name": "python3"
  },
  "language_info": {
   "codemirror_mode": {
    "name": "ipython",
    "version": 3
   },
   "file_extension": ".py",
   "mimetype": "text/x-python",
   "name": "python",
   "nbconvert_exporter": "python",
   "pygments_lexer": "ipython3",
   "version": "3.9.13"
  },
  "orig_nbformat": 4
 },
 "nbformat": 4,
 "nbformat_minor": 2
}
